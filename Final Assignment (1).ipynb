# display the output
print("this is a new Notebook")
